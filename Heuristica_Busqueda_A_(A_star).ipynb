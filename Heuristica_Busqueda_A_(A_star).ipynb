{
  "nbformat": 4,
  "nbformat_minor": 0,
  "metadata": {
    "colab": {
      "provenance": [],
      "include_colab_link": true
    },
    "kernelspec": {
      "name": "python3",
      "display_name": "Python 3"
    },
    "language_info": {
      "name": "python"
    }
  },
  "cells": [
    {
      "cell_type": "markdown",
      "metadata": {
        "id": "view-in-github",
        "colab_type": "text"
      },
      "source": [
        "<a href=\"https://colab.research.google.com/github/Inquipatia/ChildNote/blob/master/Heuristica_Busqueda_A_(A_star).ipynb\" target=\"_parent\"><img src=\"https://colab.research.google.com/assets/colab-badge.svg\" alt=\"Open In Colab\"/></a>"
      ]
    },
    {
      "cell_type": "code",
      "execution_count": 1,
      "metadata": {
        "id": "DKDcZvICIMBZ"
      },
      "outputs": [],
      "source": [
        "import heapq\n",
        "\n",
        "def a_star(start_node, goal_node, h_func):\n",
        "    # Inicializar la lista de nodos abiertos con el nodo de inicio\n",
        "    open_list = [(h_func(start_node), start_node)]\n",
        "    # Inicializar los conjuntos de nodos cerrados y padres\n",
        "    closed_set = set()\n",
        "    parent_map = {}\n",
        "    # Inicializar los costos G y F\n",
        "    g_scores = {start_node.name: 0}\n",
        "    f_scores = {start_node.name: h_func(start_node)}\n",
        "    \n",
        "    while open_list:\n",
        "        # Obtener el nodo con el valor F más bajo de la lista abierta\n",
        "        f, current_node = heapq.heappop(open_list)\n",
        "        \n",
        "        # Si el nodo actual es el nodo objetivo, se ha encontrado el camino\n",
        "        if current_node == goal_node:\n",
        "            path = []\n",
        "            while current_node in parent_map:\n",
        "                path.append(current_node.name)\n",
        "                current_node = parent_map[current_node]\n",
        "            path.append(start_node.name)\n",
        "            path.reverse()\n",
        "            return path\n",
        "        \n",
        "        # Agregar el nodo actual al conjunto cerrado\n",
        "        closed_set.add(current_node)\n",
        "        \n",
        "        # Recorrer todos los vecinos del nodo actual\n",
        "        for neighbor, distance in current_node.get_neighbors():\n",
        "            # Si el vecino está en el conjunto cerrado, saltar este vecino\n",
        "            if neighbor in closed_set:\n",
        "                continue\n",
        "            \n",
        "            # Calcular el costo G de este vecino desde el nodo de inicio\n",
        "            tentative_g_score = g_scores[current_node.name] + distance\n",
        "            \n",
        "            # Si este camino hacia el vecino es mejor que cualquier otro camino previo,\n",
        "            # guardar este camino y actualizar los valores G y F del vecino\n",
        "            if neighbor.name not in g_scores or tentative_g_score < g_scores[neighbor.name]:\n",
        "                parent_map[neighbor] = current_node\n",
        "                g_scores[neighbor.name] = tentative_g_score\n",
        "                f_scores[neighbor.name] = tentative_g_score + h_func(neighbor)\n",
        "                \n",
        "                # Si el vecino no está en la lista abierta, agregarlo\n",
        "                if neighbor.name not in [node[1].name for node in open_list]:\n",
        "                    heapq.heappush(open_list, (f_scores[neighbor.name], neighbor))\n",
        "                    \n",
        "    # Si se recorren todos los nodos y no se encuentra el objetivo, no hay camino\n",
        "    return None\n",
        "\n",
        "\n"
      ]
    },
    {
      "cell_type": "markdown",
      "source": [
        "Este código implementa el algoritmo de búsqueda A* utilizando una cola de prioridad para mantener la lista abierta de nodos. La función h_func es una heurística que se utiliza para estimar el costo restante de llegar al nodo objetivo desde cualquier nodo dado"
      ],
      "metadata": {
        "id": "2UUPhhHzIjdH"
      }
    },
    {
      "cell_type": "markdown",
      "source": [
        "A --4-- B\n",
        "|      / |\n",
        "3    2   5\n",
        "| /      |\n",
        "C --1-- D\n"
      ],
      "metadata": {
        "id": "KIHLlLcTJRG4"
      }
    },
    {
      "cell_type": "markdown",
      "source": [
        "Podemos representar este grafo en Python con una clase Node que tiene un diccionario de vecinos y sus distancias:"
      ],
      "metadata": {
        "id": "k8HuGuoMJUMT"
      }
    },
    {
      "cell_type": "code",
      "source": [
        "class Node:\n",
        "    def __init__(self, name):\n",
        "        self.name = name\n",
        "        self.neighbors = {}\n",
        "\n",
        "    def add_neighbor(self, neighbor, distance):\n",
        "        self.neighbors[neighbor] = distance\n",
        "\n",
        "    def get_neighbors(self):\n",
        "        return self.neighbors.items()\n"
      ],
      "metadata": {
        "id": "6ccG7IVIJVpl"
      },
      "execution_count": 2,
      "outputs": []
    },
    {
      "cell_type": "markdown",
      "source": [
        "Luego, creamos los nodos y los enlazamos entre sí:"
      ],
      "metadata": {
        "id": "Nhl3IzgkJYNa"
      }
    },
    {
      "cell_type": "code",
      "source": [
        "# Crear los nodos\n",
        "a = Node('A')\n",
        "b = Node('B')\n",
        "c = Node('C')\n",
        "d = Node('D')\n",
        "\n",
        "# Enlazar los nodos\n",
        "a.add_neighbor(b, 4)\n",
        "a.add_neighbor(c, 3)\n",
        "a.add_neighbor(d, 7)\n",
        "b.add_neighbor(c, 2)\n",
        "b.add_neighbor(d, 5)\n",
        "c.add_neighbor(d, 1)\n"
      ],
      "metadata": {
        "id": "6t3dJBVbJZ1b"
      },
      "execution_count": 3,
      "outputs": []
    },
    {
      "cell_type": "markdown",
      "source": [
        "Ahora, podemos definir nuestra heurística. En este caso, una buena heurística podría ser la distancia en línea recta desde el nodo actual hasta el nodo objetivo (en este caso, el nodo D):"
      ],
      "metadata": {
        "id": "PqSw4dqyJdwH"
      }
    },
    {
      "cell_type": "code",
      "source": [
        "def heuristic(node):\n",
        "    # Usamos la distancia euclidiana en línea recta\n",
        "    # entre el nodo actual y el nodo objetivo (D)\n",
        "    distances = {\n",
        "        'A': 5,\n",
        "        'B': 3.6,\n",
        "        'C': 1.4,\n",
        "        'D': 0\n",
        "    }\n",
        "    return distances[node.name]\n"
      ],
      "metadata": {
        "id": "EiA5FzpKJhEk"
      },
      "execution_count": 4,
      "outputs": []
    },
    {
      "cell_type": "markdown",
      "source": [
        "Finalmente, podemos llamar a la función a_star para encontrar el camino más corto desde el nodo A hasta el nodo D:"
      ],
      "metadata": {
        "id": "zxL-MBtsJl3g"
      }
    },
    {
      "cell_type": "code",
      "source": [
        "path = a_star(a, d, heuristic)\n",
        "print(path)  # Resultado: ['A', 'C', 'D']\n"
      ],
      "metadata": {
        "colab": {
          "base_uri": "https://localhost:8080/"
        },
        "id": "spuaWXkmJlNj",
        "outputId": "5932a1af-f20d-4de5-a956-57c34571936a"
      },
      "execution_count": 5,
      "outputs": [
        {
          "output_type": "stream",
          "name": "stdout",
          "text": [
            "['A', 'C', 'D']\n"
          ]
        }
      ]
    },
    {
      "cell_type": "markdown",
      "source": [
        "En este caso, el algoritmo encontrará el camino más corto A -> C -> D, y la salida será ['A', 'C', 'D']."
      ],
      "metadata": {
        "id": "hcGo_iAUJs1k"
      }
    }
  ]
}